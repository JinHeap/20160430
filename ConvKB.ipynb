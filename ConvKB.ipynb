{
  "nbformat": 4,
  "nbformat_minor": 0,
  "metadata": {
    "colab": {
      "name": "ConvKB.ipynb",
      "version": "0.3.2",
      "provenance": [],
      "private_outputs": true,
      "toc_visible": true,
      "include_colab_link": true
    },
    "kernelspec": {
      "name": "python3",
      "display_name": "Python 3"
    },
    "accelerator": "GPU"
  },
  "cells": [
    {
      "cell_type": "markdown",
      "metadata": {
        "id": "view-in-github",
        "colab_type": "text"
      },
      "source": [
        "[View in Colaboratory](https://colab.research.google.com/github/JinHeap/20160430/blob/master/ConvKB.ipynb)"
      ]
    },
    {
      "metadata": {
        "id": "-8Cg-ejegFyk",
        "colab_type": "text"
      },
      "cell_type": "markdown",
      "source": [
        "# 加载谷歌硬盘需要授权和填入授权码"
      ]
    },
    {
      "metadata": {
        "id": "BcouIRhAfdJd",
        "colab_type": "code",
        "colab": {}
      },
      "cell_type": "code",
      "source": [
        "!apt-get install -y -qq software-properties-common python-software-properties module-init-tools\n",
        "!add-apt-repository -y ppa:alessandro-strada/ppa 2>&1 > /dev/null\n",
        "!apt-get update -qq 2>&1 > /dev/null\n",
        "!apt-get -y install -qq google-drive-ocamlfuse fuse\n",
        "from google.colab import auth\n",
        "auth.authenticate_user()\n",
        "from oauth2client.client import GoogleCredentials\n",
        "creds = GoogleCredentials.get_application_default()\n",
        "import getpass\n",
        "!google-drive-ocamlfuse -headless -id={creds.client_id} -secret={creds.client_secret} < /dev/null 2>&1 | grep URL\n",
        "vcode = getpass.getpass()\n",
        "!echo {vcode} | google-drive-ocamlfuse -headless -id={creds.client_id} -secret={creds.client_secret}"
      ],
      "execution_count": 0,
      "outputs": []
    },
    {
      "metadata": {
        "id": "z1yHw9U-kGzo",
        "colab_type": "code",
        "colab": {}
      },
      "cell_type": "code",
      "source": [
        "!mkdir -p drive\n",
        "!google-drive-ocamlfuse drive  -o nonempty"
      ],
      "execution_count": 0,
      "outputs": []
    },
    {
      "metadata": {
        "id": "XmmmcEejgRnk",
        "colab_type": "text"
      },
      "cell_type": "markdown",
      "source": [
        "# 验证和谷歌云盘的连接是否成功"
      ]
    },
    {
      "metadata": {
        "id": "9hz35CbEmXs1",
        "colab_type": "code",
        "colab": {}
      },
      "cell_type": "code",
      "source": [
        "!ls drive/tf/ConvKB/data/FB15k-237 "
      ],
      "execution_count": 0,
      "outputs": []
    },
    {
      "metadata": {
        "id": "Joen9bbhgh80",
        "colab_type": "text"
      },
      "cell_type": "markdown",
      "source": [
        "# 运行云盘中的py脚本"
      ]
    },
    {
      "metadata": {
        "id": "9dje3wXTmZCQ",
        "colab_type": "code",
        "colab": {}
      },
      "cell_type": "code",
      "source": [
        "!python3 drive/tf/ConvKB/train.py  --embedding_dim 100 --num_filters 50 --learning_rate 0.000005 --name FB15k-237 --useConstantInit=True --model_name fb15k237 --data drive/tf/ConvKB/data/ --run_folder drive/tf/ConvKB/data/"
      ],
      "execution_count": 0,
      "outputs": []
    },
    {
      "metadata": {
        "id": "XVHK7Q-I6qin",
        "colab_type": "code",
        "colab": {}
      },
      "cell_type": "code",
      "source": [
        "!tar -zcvf drive/tf/ConvKB/data/model.tar /content/drive/tf/ConvKB/data/runs/fb15k237/checkpoints/"
      ],
      "execution_count": 0,
      "outputs": []
    },
    {
      "metadata": {
        "id": "G7mGqV5q_hjW",
        "colab_type": "code",
        "colab": {}
      },
      "cell_type": "code",
      "source": [
        "!ls drive/tf/ConvKB/data/"
      ],
      "execution_count": 0,
      "outputs": []
    },
    {
      "metadata": {
        "id": "1LDxcrskM-eV",
        "colab_type": "code",
        "colab": {}
      },
      "cell_type": "code",
      "source": [
        "!cp -r /content/drive/tf/ConvKB/data drive/tf/ConvKB/data/"
      ],
      "execution_count": 0,
      "outputs": []
    },
    {
      "metadata": {
        "id": "RP1E5wccOMA1",
        "colab_type": "code",
        "colab": {}
      },
      "cell_type": "code",
      "source": [
        "from google.colab import files\n",
        "files.download('drive/tf/ConvKB/data/model.tar')"
      ],
      "execution_count": 0,
      "outputs": []
    },
    {
      "metadata": {
        "id": "fZf1dXzc6Fn2",
        "colab_type": "code",
        "colab": {}
      },
      "cell_type": "code",
      "source": [
        "!nohub python drive/tf/ConvKB/eval.py --embedding_dim 100 --num_filters 50 --name FB15k-237 --useConstantInit=True --model_name fb15k237 --num_splits 8 --testIdx 0 --data drive/tf/ConvKB/data/ --run_folder drive/tf/ConvKB/data/ &\n",
        "!nohub python drive/tf/ConvKB/eval.py --embedding_dim 100 --num_filters 50 --name FB15k-237 --useConstantInit=True --model_name fb15k237 --num_splits 8 --testIdx 1 --data drive/tf/ConvKB/data/ --run_folder drive/tf/ConvKB/data/ &"
      ],
      "execution_count": 0,
      "outputs": []
    },
    {
      "metadata": {
        "id": "N6NL2YISp7kj",
        "colab_type": "code",
        "colab": {}
      },
      "cell_type": "code",
      "source": [
        "!python3 drive/tf/ConvKB/eval.py --embedding_dim 100 --num_filters 50 --name FB15k-237 --useConstantInit=True --model_name fb15k237 --num_splits 8 --testIdx 0 --data drive/tf/ConvKB/data/ --run_folder drive/tf/ConvKB/data/\n",
        "!python3 drive/tf/ConvKB/eval.py --embedding_dim 100 --num_filters 50 --name FB15k-237 --useConstantInit=True --model_name fb15k237 --num_splits 8 --testIdx 1 --data drive/tf/ConvKB/data/ --run_folder drive/tf/ConvKB/data/\n",
        "!python3 drive/tf/ConvKB/eval.py --embedding_dim 100 --num_filters 50 --name FB15k-237 --useConstantInit=True --model_name fb15k237 --num_splits 8 --testIdx 2 --data drive/tf/ConvKB/data/ --run_folder drive/tf/ConvKB/data/\n",
        "!python3 drive/tf/ConvKB/eval.py --embedding_dim 100 --num_filters 50 --name FB15k-237 --useConstantInit=True --model_name fb15k237 --num_splits 8 --testIdx 3 --data drive/tf/ConvKB/data/ --run_folder drive/tf/ConvKB/data/\n",
        "!python3 drive/tf/ConvKB/eval.py --embedding_dim 100 --num_filters 50 --name FB15k-237 --useConstantInit=True --model_name fb15k237 --num_splits 8 --testIdx 4 --data drive/tf/ConvKB/data/ --run_folder drive/tf/ConvKB/data/\n",
        "!python3 drive/tf/ConvKB/eval.py --embedding_dim 100 --num_filters 50 --name FB15k-237 --useConstantInit=True --model_name fb15k237 --num_splits 8 --testIdx 5 --data drive/tf/ConvKB/data/ --run_folder drive/tf/ConvKB/data/\n",
        "!python3 drive/tf/ConvKB/eval.py --embedding_dim 100 --num_filters 50 --name FB15k-237 --useConstantInit=True --model_name fb15k237 --num_splits 8 --testIdx 6 --data drive/tf/ConvKB/data/ --run_folder drive/tf/ConvKB/data/\n",
        "!python3 drive/tf/ConvKB/eval.py --embedding_dim 100 --num_filters 50 --name FB15k-237 --useConstantInit=True --model_name fb15k237 --num_splits 8 --testIdx 7 --data drive/tf/ConvKB/data/ --run_folder drive/tf/ConvKB/data/\n",
        "!python3 drive/tf/ConvKB/eval.py --embedding_dim 100 --num_filters 50 --name FB15k-237 --useConstantInit=True --model_name fb15k237 --num_splits 8 --decode=False --data drive/tf/ConvKB/data/ --run_folder drive/tf/ConvKB/data/"
      ],
      "execution_count": 0,
      "outputs": []
    },
    {
      "metadata": {
        "id": "OBDPSjGPQECe",
        "colab_type": "code",
        "colab": {}
      },
      "cell_type": "code",
      "source": [
        "!bash drive/tf/ConvKB/evalFB15k-237.sh"
      ],
      "execution_count": 0,
      "outputs": []
    },
    {
      "metadata": {
        "id": "DaiYhTjCcenE",
        "colab_type": "code",
        "colab": {}
      },
      "cell_type": "code",
      "source": [
        "!ls drive/tf/ConvKB/"
      ],
      "execution_count": 0,
      "outputs": []
    },
    {
      "metadata": {
        "id": "TxEncBgnhXLe",
        "colab_type": "text"
      },
      "cell_type": "markdown",
      "source": [
        "# 查看 进程 GPU使用率等信息"
      ]
    },
    {
      "metadata": {
        "id": "l7hIRPCVeEB8",
        "colab_type": "code",
        "colab": {}
      },
      "cell_type": "code",
      "source": [
        "!cat nohup.out"
      ],
      "execution_count": 0,
      "outputs": []
    },
    {
      "metadata": {
        "id": "Gemj0Bc6ecs2",
        "colab_type": "code",
        "colab": {}
      },
      "cell_type": "code",
      "source": [
        "!top"
      ],
      "execution_count": 0,
      "outputs": []
    },
    {
      "metadata": {
        "id": "gFEQkcMJhDtk",
        "colab_type": "code",
        "colab": {}
      },
      "cell_type": "code",
      "source": [
        "!nvidia-smi"
      ],
      "execution_count": 0,
      "outputs": []
    },
    {
      "metadata": {
        "id": "8scb0UUqik_9",
        "colab_type": "code",
        "colab": {}
      },
      "cell_type": "code",
      "source": [
        "!kill -9 -1"
      ],
      "execution_count": 0,
      "outputs": []
    }
  ]
}